{
 "cells": [
  {
   "cell_type": "code",
   "execution_count": 2,
   "id": "f57ba1a7",
   "metadata": {},
   "outputs": [
    {
     "name": "stdout",
     "output_type": "stream",
     "text": [
      "Requirement already satisfied: tensorflow in d:\\users\\ragha\\anaconda3\\lib\\site-packages (2.13.1)\n",
      "Requirement already satisfied: tensorflow-intel==2.13.1 in d:\\users\\ragha\\anaconda3\\lib\\site-packages (from tensorflow) (2.13.1)\n",
      "Requirement already satisfied: absl-py>=1.0.0 in d:\\users\\ragha\\anaconda3\\lib\\site-packages (from tensorflow-intel==2.13.1->tensorflow) (2.1.0)\n",
      "Requirement already satisfied: astunparse>=1.6.0 in d:\\users\\ragha\\anaconda3\\lib\\site-packages (from tensorflow-intel==2.13.1->tensorflow) (1.6.3)\n",
      "Requirement already satisfied: flatbuffers>=23.1.21 in d:\\users\\ragha\\anaconda3\\lib\\site-packages (from tensorflow-intel==2.13.1->tensorflow) (24.3.7)\n",
      "Requirement already satisfied: gast<=0.4.0,>=0.2.1 in d:\\users\\ragha\\anaconda3\\lib\\site-packages (from tensorflow-intel==2.13.1->tensorflow) (0.4.0)\n",
      "Requirement already satisfied: google-pasta>=0.1.1 in d:\\users\\ragha\\anaconda3\\lib\\site-packages (from tensorflow-intel==2.13.1->tensorflow) (0.2.0)\n",
      "Requirement already satisfied: h5py>=2.9.0 in d:\\users\\ragha\\anaconda3\\lib\\site-packages (from tensorflow-intel==2.13.1->tensorflow) (3.10.0)\n",
      "Requirement already satisfied: libclang>=13.0.0 in d:\\users\\ragha\\anaconda3\\lib\\site-packages (from tensorflow-intel==2.13.1->tensorflow) (16.0.6)\n",
      "Requirement already satisfied: numpy<=1.24.3,>=1.22 in d:\\users\\ragha\\anaconda3\\lib\\site-packages (from tensorflow-intel==2.13.1->tensorflow) (1.24.3)\n",
      "Requirement already satisfied: opt-einsum>=2.3.2 in d:\\users\\ragha\\anaconda3\\lib\\site-packages (from tensorflow-intel==2.13.1->tensorflow) (3.3.0)\n",
      "Requirement already satisfied: packaging in d:\\users\\ragha\\anaconda3\\lib\\site-packages (from tensorflow-intel==2.13.1->tensorflow) (23.1)\n",
      "Requirement already satisfied: protobuf!=4.21.0,!=4.21.1,!=4.21.2,!=4.21.3,!=4.21.4,!=4.21.5,<5.0.0dev,>=3.20.3 in d:\\users\\ragha\\anaconda3\\lib\\site-packages (from tensorflow-intel==2.13.1->tensorflow) (4.25.3)\n",
      "Requirement already satisfied: setuptools in d:\\users\\ragha\\anaconda3\\lib\\site-packages (from tensorflow-intel==2.13.1->tensorflow) (68.0.0)\n",
      "Requirement already satisfied: six>=1.12.0 in d:\\users\\ragha\\anaconda3\\lib\\site-packages (from tensorflow-intel==2.13.1->tensorflow) (1.16.0)\n",
      "Requirement already satisfied: termcolor>=1.1.0 in d:\\users\\ragha\\anaconda3\\lib\\site-packages (from tensorflow-intel==2.13.1->tensorflow) (2.4.0)\n",
      "Requirement already satisfied: typing-extensions<4.6.0,>=3.6.6 in d:\\users\\ragha\\anaconda3\\lib\\site-packages (from tensorflow-intel==2.13.1->tensorflow) (4.5.0)\n",
      "Requirement already satisfied: wrapt>=1.11.0 in d:\\users\\ragha\\anaconda3\\lib\\site-packages (from tensorflow-intel==2.13.1->tensorflow) (1.14.1)\n",
      "Requirement already satisfied: grpcio<2.0,>=1.24.3 in d:\\users\\ragha\\anaconda3\\lib\\site-packages (from tensorflow-intel==2.13.1->tensorflow) (1.62.1)\n",
      "Requirement already satisfied: tensorboard<2.14,>=2.13 in d:\\users\\ragha\\anaconda3\\lib\\site-packages (from tensorflow-intel==2.13.1->tensorflow) (2.13.0)\n",
      "Requirement already satisfied: tensorflow-estimator<2.14,>=2.13.0 in d:\\users\\ragha\\anaconda3\\lib\\site-packages (from tensorflow-intel==2.13.1->tensorflow) (2.13.0)\n",
      "Requirement already satisfied: keras<2.14,>=2.13.1 in d:\\users\\ragha\\anaconda3\\lib\\site-packages (from tensorflow-intel==2.13.1->tensorflow) (2.13.1)\n",
      "Requirement already satisfied: tensorflow-io-gcs-filesystem>=0.23.1 in d:\\users\\ragha\\anaconda3\\lib\\site-packages (from tensorflow-intel==2.13.1->tensorflow) (0.31.0)\n",
      "Requirement already satisfied: wheel<1.0,>=0.23.0 in d:\\users\\ragha\\anaconda3\\lib\\site-packages (from astunparse>=1.6.0->tensorflow-intel==2.13.1->tensorflow) (0.38.4)\n",
      "Requirement already satisfied: google-auth<3,>=1.6.3 in d:\\users\\ragha\\anaconda3\\lib\\site-packages (from tensorboard<2.14,>=2.13->tensorflow-intel==2.13.1->tensorflow) (2.28.2)\n",
      "Requirement already satisfied: google-auth-oauthlib<1.1,>=0.5 in d:\\users\\ragha\\anaconda3\\lib\\site-packages (from tensorboard<2.14,>=2.13->tensorflow-intel==2.13.1->tensorflow) (1.0.0)\n",
      "Requirement already satisfied: markdown>=2.6.8 in d:\\users\\ragha\\anaconda3\\lib\\site-packages (from tensorboard<2.14,>=2.13->tensorflow-intel==2.13.1->tensorflow) (3.4.1)\n",
      "Requirement already satisfied: requests<3,>=2.21.0 in d:\\users\\ragha\\anaconda3\\lib\\site-packages (from tensorboard<2.14,>=2.13->tensorflow-intel==2.13.1->tensorflow) (2.31.0)\n",
      "Requirement already satisfied: tensorboard-data-server<0.8.0,>=0.7.0 in d:\\users\\ragha\\anaconda3\\lib\\site-packages (from tensorboard<2.14,>=2.13->tensorflow-intel==2.13.1->tensorflow) (0.7.2)\n",
      "Requirement already satisfied: werkzeug>=1.0.1 in d:\\users\\ragha\\anaconda3\\lib\\site-packages (from tensorboard<2.14,>=2.13->tensorflow-intel==2.13.1->tensorflow) (2.2.3)\n",
      "Requirement already satisfied: cachetools<6.0,>=2.0.0 in d:\\users\\ragha\\anaconda3\\lib\\site-packages (from google-auth<3,>=1.6.3->tensorboard<2.14,>=2.13->tensorflow-intel==2.13.1->tensorflow) (5.3.3)\n",
      "Requirement already satisfied: pyasn1-modules>=0.2.1 in d:\\users\\ragha\\anaconda3\\lib\\site-packages (from google-auth<3,>=1.6.3->tensorboard<2.14,>=2.13->tensorflow-intel==2.13.1->tensorflow) (0.2.8)\n",
      "Requirement already satisfied: rsa<5,>=3.1.4 in d:\\users\\ragha\\anaconda3\\lib\\site-packages (from google-auth<3,>=1.6.3->tensorboard<2.14,>=2.13->tensorflow-intel==2.13.1->tensorflow) (4.9)\n",
      "Requirement already satisfied: requests-oauthlib>=0.7.0 in d:\\users\\ragha\\anaconda3\\lib\\site-packages (from google-auth-oauthlib<1.1,>=0.5->tensorboard<2.14,>=2.13->tensorflow-intel==2.13.1->tensorflow) (1.4.0)\n",
      "Requirement already satisfied: charset-normalizer<4,>=2 in d:\\users\\ragha\\anaconda3\\lib\\site-packages (from requests<3,>=2.21.0->tensorboard<2.14,>=2.13->tensorflow-intel==2.13.1->tensorflow) (2.0.4)\n",
      "Requirement already satisfied: idna<4,>=2.5 in d:\\users\\ragha\\anaconda3\\lib\\site-packages (from requests<3,>=2.21.0->tensorboard<2.14,>=2.13->tensorflow-intel==2.13.1->tensorflow) (3.4)\n",
      "Requirement already satisfied: urllib3<3,>=1.21.1 in d:\\users\\ragha\\anaconda3\\lib\\site-packages (from requests<3,>=2.21.0->tensorboard<2.14,>=2.13->tensorflow-intel==2.13.1->tensorflow) (1.26.16)\n",
      "Requirement already satisfied: certifi>=2017.4.17 in d:\\users\\ragha\\anaconda3\\lib\\site-packages (from requests<3,>=2.21.0->tensorboard<2.14,>=2.13->tensorflow-intel==2.13.1->tensorflow) (2023.11.17)\n",
      "Requirement already satisfied: MarkupSafe>=2.1.1 in d:\\users\\ragha\\anaconda3\\lib\\site-packages (from werkzeug>=1.0.1->tensorboard<2.14,>=2.13->tensorflow-intel==2.13.1->tensorflow) (2.1.1)\n",
      "Requirement already satisfied: pyasn1<0.5.0,>=0.4.6 in d:\\users\\ragha\\anaconda3\\lib\\site-packages (from pyasn1-modules>=0.2.1->google-auth<3,>=1.6.3->tensorboard<2.14,>=2.13->tensorflow-intel==2.13.1->tensorflow) (0.4.8)\n",
      "Requirement already satisfied: oauthlib>=3.0.0 in d:\\users\\ragha\\anaconda3\\lib\\site-packages (from requests-oauthlib>=0.7.0->google-auth-oauthlib<1.1,>=0.5->tensorboard<2.14,>=2.13->tensorflow-intel==2.13.1->tensorflow) (3.2.2)\n",
      "Note: you may need to restart the kernel to use updated packages.\n"
     ]
    }
   ],
   "source": [
    "pip install tensorflow"
   ]
  },
  {
   "cell_type": "code",
   "execution_count": 3,
   "id": "852fe748",
   "metadata": {},
   "outputs": [
    {
     "name": "stdout",
     "output_type": "stream",
     "text": [
      "Requirement already satisfied: tensorflow[and-cuda] in d:\\users\\ragha\\anaconda3\\lib\\site-packages (2.13.1)\n",
      "Requirement already satisfied: tensorflow-intel==2.13.1 in d:\\users\\ragha\\anaconda3\\lib\\site-packages (from tensorflow[and-cuda]) (2.13.1)\n",
      "Requirement already satisfied: absl-py>=1.0.0 in d:\\users\\ragha\\anaconda3\\lib\\site-packages (from tensorflow-intel==2.13.1->tensorflow[and-cuda]) (2.1.0)\n",
      "Requirement already satisfied: astunparse>=1.6.0 in d:\\users\\ragha\\anaconda3\\lib\\site-packages (from tensorflow-intel==2.13.1->tensorflow[and-cuda]) (1.6.3)\n",
      "Requirement already satisfied: flatbuffers>=23.1.21 in d:\\users\\ragha\\anaconda3\\lib\\site-packages (from tensorflow-intel==2.13.1->tensorflow[and-cuda]) (24.3.7)\n",
      "Requirement already satisfied: gast<=0.4.0,>=0.2.1 in d:\\users\\ragha\\anaconda3\\lib\\site-packages (from tensorflow-intel==2.13.1->tensorflow[and-cuda]) (0.4.0)\n",
      "Requirement already satisfied: google-pasta>=0.1.1 in d:\\users\\ragha\\anaconda3\\lib\\site-packages (from tensorflow-intel==2.13.1->tensorflow[and-cuda]) (0.2.0)\n",
      "Requirement already satisfied: h5py>=2.9.0 in d:\\users\\ragha\\anaconda3\\lib\\site-packages (from tensorflow-intel==2.13.1->tensorflow[and-cuda]) (3.10.0)\n",
      "Requirement already satisfied: libclang>=13.0.0 in d:\\users\\ragha\\anaconda3\\lib\\site-packages (from tensorflow-intel==2.13.1->tensorflow[and-cuda]) (16.0.6)\n",
      "Requirement already satisfied: numpy<=1.24.3,>=1.22 in d:\\users\\ragha\\anaconda3\\lib\\site-packages (from tensorflow-intel==2.13.1->tensorflow[and-cuda]) (1.24.3)\n",
      "Requirement already satisfied: opt-einsum>=2.3.2 in d:\\users\\ragha\\anaconda3\\lib\\site-packages (from tensorflow-intel==2.13.1->tensorflow[and-cuda]) (3.3.0)\n",
      "Requirement already satisfied: packaging in d:\\users\\ragha\\anaconda3\\lib\\site-packages (from tensorflow-intel==2.13.1->tensorflow[and-cuda]) (23.1)\n",
      "Requirement already satisfied: protobuf!=4.21.0,!=4.21.1,!=4.21.2,!=4.21.3,!=4.21.4,!=4.21.5,<5.0.0dev,>=3.20.3 in d:\\users\\ragha\\anaconda3\\lib\\site-packages (from tensorflow-intel==2.13.1->tensorflow[and-cuda]) (4.25.3)\n",
      "Requirement already satisfied: setuptools in d:\\users\\ragha\\anaconda3\\lib\\site-packages (from tensorflow-intel==2.13.1->tensorflow[and-cuda]) (68.0.0)\n",
      "Requirement already satisfied: six>=1.12.0 in d:\\users\\ragha\\anaconda3\\lib\\site-packages (from tensorflow-intel==2.13.1->tensorflow[and-cuda]) (1.16.0)\n",
      "Requirement already satisfied: termcolor>=1.1.0 in d:\\users\\ragha\\anaconda3\\lib\\site-packages (from tensorflow-intel==2.13.1->tensorflow[and-cuda]) (2.4.0)\n",
      "Requirement already satisfied: typing-extensions<4.6.0,>=3.6.6 in d:\\users\\ragha\\anaconda3\\lib\\site-packages (from tensorflow-intel==2.13.1->tensorflow[and-cuda]) (4.5.0)\n",
      "Requirement already satisfied: wrapt>=1.11.0 in d:\\users\\ragha\\anaconda3\\lib\\site-packages (from tensorflow-intel==2.13.1->tensorflow[and-cuda]) (1.14.1)\n",
      "Requirement already satisfied: grpcio<2.0,>=1.24.3 in d:\\users\\ragha\\anaconda3\\lib\\site-packages (from tensorflow-intel==2.13.1->tensorflow[and-cuda]) (1.62.1)\n",
      "Requirement already satisfied: tensorboard<2.14,>=2.13 in d:\\users\\ragha\\anaconda3\\lib\\site-packages (from tensorflow-intel==2.13.1->tensorflow[and-cuda]) (2.13.0)\n",
      "Requirement already satisfied: tensorflow-estimator<2.14,>=2.13.0 in d:\\users\\ragha\\anaconda3\\lib\\site-packages (from tensorflow-intel==2.13.1->tensorflow[and-cuda]) (2.13.0)\n",
      "Requirement already satisfied: keras<2.14,>=2.13.1 in d:\\users\\ragha\\anaconda3\\lib\\site-packages (from tensorflow-intel==2.13.1->tensorflow[and-cuda]) (2.13.1)\n",
      "Requirement already satisfied: tensorflow-io-gcs-filesystem>=0.23.1 in d:\\users\\ragha\\anaconda3\\lib\\site-packages (from tensorflow-intel==2.13.1->tensorflow[and-cuda]) (0.31.0)\n",
      "Requirement already satisfied: wheel<1.0,>=0.23.0 in d:\\users\\ragha\\anaconda3\\lib\\site-packages (from astunparse>=1.6.0->tensorflow-intel==2.13.1->tensorflow[and-cuda]) (0.38.4)\n",
      "Requirement already satisfied: google-auth<3,>=1.6.3 in d:\\users\\ragha\\anaconda3\\lib\\site-packages (from tensorboard<2.14,>=2.13->tensorflow-intel==2.13.1->tensorflow[and-cuda]) (2.28.2)\n",
      "Requirement already satisfied: google-auth-oauthlib<1.1,>=0.5 in d:\\users\\ragha\\anaconda3\\lib\\site-packages (from tensorboard<2.14,>=2.13->tensorflow-intel==2.13.1->tensorflow[and-cuda]) (1.0.0)\n",
      "Requirement already satisfied: markdown>=2.6.8 in d:\\users\\ragha\\anaconda3\\lib\\site-packages (from tensorboard<2.14,>=2.13->tensorflow-intel==2.13.1->tensorflow[and-cuda]) (3.4.1)\n",
      "Requirement already satisfied: requests<3,>=2.21.0 in d:\\users\\ragha\\anaconda3\\lib\\site-packages (from tensorboard<2.14,>=2.13->tensorflow-intel==2.13.1->tensorflow[and-cuda]) (2.31.0)\n",
      "Requirement already satisfied: tensorboard-data-server<0.8.0,>=0.7.0 in d:\\users\\ragha\\anaconda3\\lib\\site-packages (from tensorboard<2.14,>=2.13->tensorflow-intel==2.13.1->tensorflow[and-cuda]) (0.7.2)\n",
      "Requirement already satisfied: werkzeug>=1.0.1 in d:\\users\\ragha\\anaconda3\\lib\\site-packages (from tensorboard<2.14,>=2.13->tensorflow-intel==2.13.1->tensorflow[and-cuda]) (2.2.3)\n",
      "Requirement already satisfied: cachetools<6.0,>=2.0.0 in d:\\users\\ragha\\anaconda3\\lib\\site-packages (from google-auth<3,>=1.6.3->tensorboard<2.14,>=2.13->tensorflow-intel==2.13.1->tensorflow[and-cuda]) (5.3.3)\n",
      "Requirement already satisfied: pyasn1-modules>=0.2.1 in d:\\users\\ragha\\anaconda3\\lib\\site-packages (from google-auth<3,>=1.6.3->tensorboard<2.14,>=2.13->tensorflow-intel==2.13.1->tensorflow[and-cuda]) (0.2.8)\n",
      "Requirement already satisfied: rsa<5,>=3.1.4 in d:\\users\\ragha\\anaconda3\\lib\\site-packages (from google-auth<3,>=1.6.3->tensorboard<2.14,>=2.13->tensorflow-intel==2.13.1->tensorflow[and-cuda]) (4.9)\n",
      "Requirement already satisfied: requests-oauthlib>=0.7.0 in d:\\users\\ragha\\anaconda3\\lib\\site-packages (from google-auth-oauthlib<1.1,>=0.5->tensorboard<2.14,>=2.13->tensorflow-intel==2.13.1->tensorflow[and-cuda]) (1.4.0)\n",
      "Requirement already satisfied: charset-normalizer<4,>=2 in d:\\users\\ragha\\anaconda3\\lib\\site-packages (from requests<3,>=2.21.0->tensorboard<2.14,>=2.13->tensorflow-intel==2.13.1->tensorflow[and-cuda]) (2.0.4)\n",
      "Requirement already satisfied: idna<4,>=2.5 in d:\\users\\ragha\\anaconda3\\lib\\site-packages (from requests<3,>=2.21.0->tensorboard<2.14,>=2.13->tensorflow-intel==2.13.1->tensorflow[and-cuda]) (3.4)\n",
      "Requirement already satisfied: urllib3<3,>=1.21.1 in d:\\users\\ragha\\anaconda3\\lib\\site-packages (from requests<3,>=2.21.0->tensorboard<2.14,>=2.13->tensorflow-intel==2.13.1->tensorflow[and-cuda]) (1.26.16)\n",
      "Requirement already satisfied: certifi>=2017.4.17 in d:\\users\\ragha\\anaconda3\\lib\\site-packages (from requests<3,>=2.21.0->tensorboard<2.14,>=2.13->tensorflow-intel==2.13.1->tensorflow[and-cuda]) (2023.11.17)\n",
      "Requirement already satisfied: MarkupSafe>=2.1.1 in d:\\users\\ragha\\anaconda3\\lib\\site-packages (from werkzeug>=1.0.1->tensorboard<2.14,>=2.13->tensorflow-intel==2.13.1->tensorflow[and-cuda]) (2.1.1)\n",
      "Requirement already satisfied: pyasn1<0.5.0,>=0.4.6 in d:\\users\\ragha\\anaconda3\\lib\\site-packages (from pyasn1-modules>=0.2.1->google-auth<3,>=1.6.3->tensorboard<2.14,>=2.13->tensorflow-intel==2.13.1->tensorflow[and-cuda]) (0.4.8)\n",
      "Requirement already satisfied: oauthlib>=3.0.0 in d:\\users\\ragha\\anaconda3\\lib\\site-packages (from requests-oauthlib>=0.7.0->google-auth-oauthlib<1.1,>=0.5->tensorboard<2.14,>=2.13->tensorflow-intel==2.13.1->tensorflow[and-cuda]) (3.2.2)\n",
      "Note: you may need to restart the kernel to use updated packages.\n"
     ]
    },
    {
     "name": "stderr",
     "output_type": "stream",
     "text": [
      "WARNING: tensorflow 2.13.1 does not provide the extra 'and-cuda'\n"
     ]
    }
   ],
   "source": [
    "pip install tensorflow[and-cuda]"
   ]
  },
  {
   "cell_type": "code",
   "execution_count": 4,
   "id": "25f60cc3",
   "metadata": {},
   "outputs": [],
   "source": [
    "# import the libraries as shown below\n",
    "\n",
    "from tensorflow.keras.layers import Input, Lambda, Dense, Flatten,Conv2D\n",
    "from tensorflow.keras.models import Model\n",
    "from tensorflow.keras.applications.vgg19 import VGG19\n",
    "from tensorflow.keras.applications.resnet50 import preprocess_input\n",
    "from tensorflow.keras.preprocessing import image\n",
    "from tensorflow.keras.preprocessing.image import ImageDataGenerator,load_img\n",
    "from tensorflow.keras.models import Sequential\n",
    "import numpy as np\n",
    "from glob import glob\n",
    "import matplotlib.pyplot as plt"
   ]
  },
  {
   "cell_type": "code",
   "execution_count": 5,
   "id": "0f22b50e",
   "metadata": {},
   "outputs": [],
   "source": [
    "# re-size all the images to this\n",
    "IMAGE_SIZE = [224, 224]\n",
    "\n",
    "train_path = 'cell_images/Train'\n",
    "valid_path = 'cell_images/Test'"
   ]
  },
  {
   "cell_type": "code",
   "execution_count": 43,
   "id": "32870d6c",
   "metadata": {},
   "outputs": [],
   "source": [
    "# Import the Vgg 16 library as shown below and add preprocessing layer to the front of VGG\n",
    "# Here we will be using imagenet weights\n",
    "\n",
    "vgg19 = VGG19(input_shape=IMAGE_SIZE + [3], weights='imagenet', include_top=False)"
   ]
  },
  {
   "cell_type": "code",
   "execution_count": 48,
   "id": "ce7d66be",
   "metadata": {},
   "outputs": [
    {
     "name": "stdout",
     "output_type": "stream",
     "text": [
      "Model: \"vgg19\"\n",
      "_________________________________________________________________\n",
      " Layer (type)                Output Shape              Param #   \n",
      "=================================================================\n",
      " input_2 (InputLayer)        [(None, 224, 224, 3)]     0         \n",
      "                                                                 \n",
      " block1_conv1 (Conv2D)       (None, 224, 224, 64)      1792      \n",
      "                                                                 \n",
      " block1_conv2 (Conv2D)       (None, 224, 224, 64)      36928     \n",
      "                                                                 \n",
      " block1_pool (MaxPooling2D)  (None, 112, 112, 64)      0         \n",
      "                                                                 \n",
      " block2_conv1 (Conv2D)       (None, 112, 112, 128)     73856     \n",
      "                                                                 \n",
      " block2_conv2 (Conv2D)       (None, 112, 112, 128)     147584    \n",
      "                                                                 \n",
      " block2_pool (MaxPooling2D)  (None, 56, 56, 128)       0         \n",
      "                                                                 \n",
      " block3_conv1 (Conv2D)       (None, 56, 56, 256)       295168    \n",
      "                                                                 \n",
      " block3_conv2 (Conv2D)       (None, 56, 56, 256)       590080    \n",
      "                                                                 \n",
      " block3_conv3 (Conv2D)       (None, 56, 56, 256)       590080    \n",
      "                                                                 \n",
      " block3_conv4 (Conv2D)       (None, 56, 56, 256)       590080    \n",
      "                                                                 \n",
      " block3_pool (MaxPooling2D)  (None, 28, 28, 256)       0         \n",
      "                                                                 \n",
      " block4_conv1 (Conv2D)       (None, 28, 28, 512)       1180160   \n",
      "                                                                 \n",
      " block4_conv2 (Conv2D)       (None, 28, 28, 512)       2359808   \n",
      "                                                                 \n",
      " block4_conv3 (Conv2D)       (None, 28, 28, 512)       2359808   \n",
      "                                                                 \n",
      " block4_conv4 (Conv2D)       (None, 28, 28, 512)       2359808   \n",
      "                                                                 \n",
      " block4_pool (MaxPooling2D)  (None, 14, 14, 512)       0         \n",
      "                                                                 \n",
      " block5_conv1 (Conv2D)       (None, 14, 14, 512)       2359808   \n",
      "                                                                 \n",
      " block5_conv2 (Conv2D)       (None, 14, 14, 512)       2359808   \n",
      "                                                                 \n",
      " block5_conv3 (Conv2D)       (None, 14, 14, 512)       2359808   \n",
      "                                                                 \n",
      " block5_conv4 (Conv2D)       (None, 14, 14, 512)       2359808   \n",
      "                                                                 \n",
      " block5_pool (MaxPooling2D)  (None, 7, 7, 512)         0         \n",
      "                                                                 \n",
      "=================================================================\n",
      "Total params: 20024384 (76.39 MB)\n",
      "Trainable params: 0 (0.00 Byte)\n",
      "Non-trainable params: 20024384 (76.39 MB)\n",
      "_________________________________________________________________\n"
     ]
    }
   ],
   "source": [
    "vgg19.summary()"
   ]
  },
  {
   "cell_type": "code",
   "execution_count": 44,
   "id": "eb6d8507",
   "metadata": {},
   "outputs": [],
   "source": [
    "# don't train existing weights\n",
    "for layer in vgg19.layers:\n",
    "    layer.trainable = False"
   ]
  },
  {
   "cell_type": "code",
   "execution_count": 45,
   "id": "bb151c34",
   "metadata": {},
   "outputs": [],
   "source": [
    " # useful for getting number of output classes\n",
    "folders = glob('Dataset/Train/*')"
   ]
  },
  {
   "cell_type": "code",
   "execution_count": 46,
   "id": "961f8888",
   "metadata": {},
   "outputs": [
    {
     "data": {
      "text/plain": [
       "['Dataset/Train\\\\Parasite', 'Dataset/Train\\\\Uninfected']"
      ]
     },
     "execution_count": 46,
     "metadata": {},
     "output_type": "execute_result"
    }
   ],
   "source": [
    "folders"
   ]
  },
  {
   "cell_type": "code",
   "execution_count": 47,
   "id": "a3f4cd08",
   "metadata": {},
   "outputs": [],
   "source": [
    "# our layers - you can add more if you want\n",
    "x = Flatten()(vgg19.output)"
   ]
  },
  {
   "cell_type": "code",
   "execution_count": 49,
   "id": "b3ad7130",
   "metadata": {},
   "outputs": [],
   "source": [
    "prediction = Dense(len(folders), activation='softmax')(x)\n",
    "\n",
    "# create a model object\n",
    "model = Model(inputs=vgg19.input, outputs=prediction)"
   ]
  },
  {
   "cell_type": "code",
   "execution_count": 50,
   "id": "6390b779",
   "metadata": {},
   "outputs": [
    {
     "name": "stdout",
     "output_type": "stream",
     "text": [
      "Model: \"model_1\"\n",
      "_________________________________________________________________\n",
      " Layer (type)                Output Shape              Param #   \n",
      "=================================================================\n",
      " input_2 (InputLayer)        [(None, 224, 224, 3)]     0         \n",
      "                                                                 \n",
      " block1_conv1 (Conv2D)       (None, 224, 224, 64)      1792      \n",
      "                                                                 \n",
      " block1_conv2 (Conv2D)       (None, 224, 224, 64)      36928     \n",
      "                                                                 \n",
      " block1_pool (MaxPooling2D)  (None, 112, 112, 64)      0         \n",
      "                                                                 \n",
      " block2_conv1 (Conv2D)       (None, 112, 112, 128)     73856     \n",
      "                                                                 \n",
      " block2_conv2 (Conv2D)       (None, 112, 112, 128)     147584    \n",
      "                                                                 \n",
      " block2_pool (MaxPooling2D)  (None, 56, 56, 128)       0         \n",
      "                                                                 \n",
      " block3_conv1 (Conv2D)       (None, 56, 56, 256)       295168    \n",
      "                                                                 \n",
      " block3_conv2 (Conv2D)       (None, 56, 56, 256)       590080    \n",
      "                                                                 \n",
      " block3_conv3 (Conv2D)       (None, 56, 56, 256)       590080    \n",
      "                                                                 \n",
      " block3_conv4 (Conv2D)       (None, 56, 56, 256)       590080    \n",
      "                                                                 \n",
      " block3_pool (MaxPooling2D)  (None, 28, 28, 256)       0         \n",
      "                                                                 \n",
      " block4_conv1 (Conv2D)       (None, 28, 28, 512)       1180160   \n",
      "                                                                 \n",
      " block4_conv2 (Conv2D)       (None, 28, 28, 512)       2359808   \n",
      "                                                                 \n",
      " block4_conv3 (Conv2D)       (None, 28, 28, 512)       2359808   \n",
      "                                                                 \n",
      " block4_conv4 (Conv2D)       (None, 28, 28, 512)       2359808   \n",
      "                                                                 \n",
      " block4_pool (MaxPooling2D)  (None, 14, 14, 512)       0         \n",
      "                                                                 \n",
      " block5_conv1 (Conv2D)       (None, 14, 14, 512)       2359808   \n",
      "                                                                 \n",
      " block5_conv2 (Conv2D)       (None, 14, 14, 512)       2359808   \n",
      "                                                                 \n",
      " block5_conv3 (Conv2D)       (None, 14, 14, 512)       2359808   \n",
      "                                                                 \n",
      " block5_conv4 (Conv2D)       (None, 14, 14, 512)       2359808   \n",
      "                                                                 \n",
      " block5_pool (MaxPooling2D)  (None, 7, 7, 512)         0         \n",
      "                                                                 \n",
      " flatten_2 (Flatten)         (None, 25088)             0         \n",
      "                                                                 \n",
      " dense_3 (Dense)             (None, 2)                 50178     \n",
      "                                                                 \n",
      "=================================================================\n",
      "Total params: 20074562 (76.58 MB)\n",
      "Trainable params: 50178 (196.01 KB)\n",
      "Non-trainable params: 20024384 (76.39 MB)\n",
      "_________________________________________________________________\n"
     ]
    }
   ],
   "source": [
    "# view the structure of the model\n",
    "model.summary()"
   ]
  },
  {
   "cell_type": "code",
   "execution_count": 51,
   "id": "29bf6c90",
   "metadata": {},
   "outputs": [],
   "source": [
    "from tensorflow.keras.layers import MaxPooling2D"
   ]
  },
  {
   "cell_type": "code",
   "execution_count": 52,
   "id": "e2d4d014",
   "metadata": {},
   "outputs": [
    {
     "name": "stdout",
     "output_type": "stream",
     "text": [
      "Model: \"sequential_1\"\n",
      "_________________________________________________________________\n",
      " Layer (type)                Output Shape              Param #   \n",
      "=================================================================\n",
      " conv2d_3 (Conv2D)           (None, 224, 224, 16)      208       \n",
      "                                                                 \n",
      " max_pooling2d_3 (MaxPoolin  (None, 112, 112, 16)      0         \n",
      " g2D)                                                            \n",
      "                                                                 \n",
      " conv2d_4 (Conv2D)           (None, 112, 112, 32)      2080      \n",
      "                                                                 \n",
      " max_pooling2d_4 (MaxPoolin  (None, 56, 56, 32)        0         \n",
      " g2D)                                                            \n",
      "                                                                 \n",
      " conv2d_5 (Conv2D)           (None, 56, 56, 64)        8256      \n",
      "                                                                 \n",
      " max_pooling2d_5 (MaxPoolin  (None, 28, 28, 64)        0         \n",
      " g2D)                                                            \n",
      "                                                                 \n",
      " flatten_3 (Flatten)         (None, 50176)             0         \n",
      "                                                                 \n",
      " dense_4 (Dense)             (None, 500)               25088500  \n",
      "                                                                 \n",
      " dense_5 (Dense)             (None, 2)                 1002      \n",
      "                                                                 \n",
      "=================================================================\n",
      "Total params: 25100046 (95.75 MB)\n",
      "Trainable params: 25100046 (95.75 MB)\n",
      "Non-trainable params: 0 (0.00 Byte)\n",
      "_________________________________________________________________\n"
     ]
    }
   ],
   "source": [
    "### Create Model from scratch using CNN\n",
    "model=Sequential()\n",
    "model.add(Conv2D(filters=16,kernel_size=2,padding=\"same\",activation=\"relu\",input_shape=(224,224,3)))\n",
    "model.add(MaxPooling2D(pool_size=2))\n",
    "model.add(Conv2D(filters=32,kernel_size=2,padding=\"same\",activation =\"relu\"))\n",
    "model.add(MaxPooling2D(pool_size=2))\n",
    "model.add(Conv2D(filters=64,kernel_size=2,padding=\"same\",activation=\"relu\"))\n",
    "model.add(MaxPooling2D(pool_size=2))\n",
    "model.add(Flatten())\n",
    "model.add(Dense(500,activation=\"relu\"))\n",
    "model.add(Dense(2,activation=\"softmax\"))\n",
    "model.summary()"
   ]
  },
  {
   "cell_type": "code",
   "execution_count": 53,
   "id": "f3a24d61",
   "metadata": {},
   "outputs": [],
   "source": [
    "# tell the model what cost and optimization method to use\n",
    "model.compile(\n",
    "  loss='categorical_crossentropy',\n",
    "  optimizer='adam',\n",
    "  metrics=['accuracy']\n",
    ")"
   ]
  },
  {
   "cell_type": "code",
   "execution_count": 99,
   "id": "13e2de05",
   "metadata": {},
   "outputs": [],
   "source": [
    "# Use the Image Data Generator to import the images from the dataset\n",
    "from tensorflow.keras.preprocessing.image import ImageDataGenerator\n",
    "\n",
    "train_datagen = ImageDataGenerator(rescale = 1./255,\n",
    "                                   shear_range = 0.2,\n",
    "                                   zoom_range = 0.2,\n",
    "                                   horizontal_flip = True)\n",
    "\n",
    "test_datagen = ImageDataGenerator(rescale = 1./255)"
   ]
  },
  {
   "cell_type": "code",
   "execution_count": 100,
   "id": "708e9dc3",
   "metadata": {},
   "outputs": [
    {
     "name": "stdout",
     "output_type": "stream",
     "text": [
      "Found 416 images belonging to 2 classes.\n"
     ]
    }
   ],
   "source": [
    "# Make sure you provide the same target size as initialied for the image size\n",
    "training_set = train_datagen.flow_from_directory('Dataset/Train',\n",
    "                                                 target_size = (224, 224),\n",
    "                                                 batch_size = 32,\n",
    "                                                 class_mode = 'categorical')"
   ]
  },
  {
   "cell_type": "code",
   "execution_count": 101,
   "id": "297bdffe",
   "metadata": {},
   "outputs": [
    {
     "data": {
      "text/plain": [
       "<keras.src.preprocessing.image.DirectoryIterator at 0x246016d61d0>"
      ]
     },
     "execution_count": 101,
     "metadata": {},
     "output_type": "execute_result"
    }
   ],
   "source": [
    "training_set"
   ]
  },
  {
   "cell_type": "code",
   "execution_count": 102,
   "id": "c8ecf56e",
   "metadata": {},
   "outputs": [
    {
     "name": "stdout",
     "output_type": "stream",
     "text": [
      "Found 134 images belonging to 2 classes.\n"
     ]
    }
   ],
   "source": [
    "test_set = test_datagen.flow_from_directory('Dataset/Test',\n",
    "                                            target_size = (224, 224),\n",
    "                                            batch_size = 32,\n",
    "                                            class_mode = 'categorical')"
   ]
  },
  {
   "cell_type": "code",
   "execution_count": 105,
   "id": "2c7dbeeb",
   "metadata": {},
   "outputs": [
    {
     "name": "stdout",
     "output_type": "stream",
     "text": [
      "Epoch 1/20\n",
      "13/13 [==============================] - 13s 969ms/step - loss: 0.4005 - accuracy: 0.7981 - val_loss: 1.0168 - val_accuracy: 0.3657\n",
      "Epoch 2/20\n",
      "13/13 [==============================] - 12s 894ms/step - loss: 0.4154 - accuracy: 0.7981 - val_loss: 1.0248 - val_accuracy: 0.4179\n",
      "Epoch 3/20\n",
      "13/13 [==============================] - 11s 817ms/step - loss: 0.3990 - accuracy: 0.8053 - val_loss: 0.6791 - val_accuracy: 0.5746\n",
      "Epoch 4/20\n",
      "13/13 [==============================] - 11s 815ms/step - loss: 0.3189 - accuracy: 0.8630 - val_loss: 0.6977 - val_accuracy: 0.6045\n",
      "Epoch 5/20\n",
      "13/13 [==============================] - 11s 813ms/step - loss: 0.3247 - accuracy: 0.8582 - val_loss: 0.6025 - val_accuracy: 0.6045\n",
      "Epoch 6/20\n",
      "13/13 [==============================] - 13s 975ms/step - loss: 0.2475 - accuracy: 0.8990 - val_loss: 0.5820 - val_accuracy: 0.6866\n",
      "Epoch 7/20\n",
      "13/13 [==============================] - 13s 949ms/step - loss: 0.2131 - accuracy: 0.9351 - val_loss: 0.5023 - val_accuracy: 0.7239\n",
      "Epoch 8/20\n",
      "13/13 [==============================] - 12s 910ms/step - loss: 0.2213 - accuracy: 0.9159 - val_loss: 0.3896 - val_accuracy: 0.8284\n",
      "Epoch 9/20\n",
      "13/13 [==============================] - 12s 885ms/step - loss: 0.1833 - accuracy: 0.9375 - val_loss: 0.4201 - val_accuracy: 0.7836\n",
      "Epoch 10/20\n",
      "13/13 [==============================] - 12s 909ms/step - loss: 0.1466 - accuracy: 0.9447 - val_loss: 0.4530 - val_accuracy: 0.7985\n",
      "Epoch 11/20\n",
      "13/13 [==============================] - 12s 873ms/step - loss: 0.1372 - accuracy: 0.9543 - val_loss: 0.3504 - val_accuracy: 0.8209\n",
      "Epoch 12/20\n",
      "13/13 [==============================] - 12s 879ms/step - loss: 0.1482 - accuracy: 0.9519 - val_loss: 0.6144 - val_accuracy: 0.7463\n",
      "Epoch 13/20\n",
      "13/13 [==============================] - 11s 867ms/step - loss: 0.1578 - accuracy: 0.9471 - val_loss: 0.3476 - val_accuracy: 0.8433\n",
      "Epoch 14/20\n",
      "13/13 [==============================] - 12s 884ms/step - loss: 0.1212 - accuracy: 0.9615 - val_loss: 0.5219 - val_accuracy: 0.8433\n",
      "Epoch 15/20\n",
      "13/13 [==============================] - 11s 864ms/step - loss: 0.1596 - accuracy: 0.9423 - val_loss: 0.4917 - val_accuracy: 0.7761\n",
      "Epoch 16/20\n",
      "13/13 [==============================] - 10s 791ms/step - loss: 0.1216 - accuracy: 0.9543 - val_loss: 0.3315 - val_accuracy: 0.8507\n",
      "Epoch 17/20\n",
      "13/13 [==============================] - 12s 929ms/step - loss: 0.0915 - accuracy: 0.9736 - val_loss: 0.2876 - val_accuracy: 0.8582\n",
      "Epoch 18/20\n",
      "13/13 [==============================] - 12s 942ms/step - loss: 0.0996 - accuracy: 0.9688 - val_loss: 0.2533 - val_accuracy: 0.9030\n",
      "Epoch 19/20\n",
      "13/13 [==============================] - 13s 953ms/step - loss: 0.1007 - accuracy: 0.9615 - val_loss: 0.2398 - val_accuracy: 0.9030\n",
      "Epoch 20/20\n",
      "13/13 [==============================] - 12s 886ms/step - loss: 0.0721 - accuracy: 0.9784 - val_loss: 0.2494 - val_accuracy: 0.9179\n"
     ]
    }
   ],
   "source": [
    "# fit the model\n",
    "# Run the cell. It will take some time to execute\n",
    "r = model.fit(\n",
    "  training_set,\n",
    "  validation_data=test_set,\n",
    "  epochs=20,\n",
    "  steps_per_epoch=len(training_set),\n",
    "  validation_steps=len(test_set)\n",
    ")"
   ]
  },
  {
   "cell_type": "code",
   "execution_count": 106,
   "id": "4e4dce3d",
   "metadata": {},
   "outputs": [
    {
     "data": {
      "image/png": "[encoded data removed]",
      "text/plain": [
       "<Figure size 640x480 with 1 Axes>"
      ]
     },
     "metadata": {},
     "output_type": "display_data"
    },
    {
     "data": {
      "image/png": "[encoded data removed]",
      "text/plain": [
       "<Figure size 640x480 with 1 Axes>"
      ]
     },
     "metadata": {},
     "output_type": "display_data"
    },
    {
     "data": {
      "text/plain": [
       "<Figure size 640x480 with 0 Axes>"
      ]
     },
     "metadata": {},
     "output_type": "display_data"
    }
   ],
   "source": [
    "# plot the loss\n",
    "plt.plot(r.history['loss'], label='train loss')\n",
    "plt.plot(r.history['val_loss'], label='val loss')\n",
    "plt.legend()\n",
    "plt.show()\n",
    "plt.savefig('LossVal_loss')\n",
    "\n",
    "# plot the accuracy\n",
    "plt.plot(r.history['accuracy'], label='train acc')\n",
    "plt.plot(r.history['val_accuracy'], label='val acc')\n",
    "plt.legend()\n",
    "plt.show()\n",
    "plt.savefig('AccVal_acc')"
   ]
  },
  {
   "cell_type": "code",
   "execution_count": 107,
   "id": "aba532cc",
   "metadata": {},
   "outputs": [],
   "source": [
    "# save it as a h5 file\n",
    "\n",
    "\n",
    "from tensorflow.keras.models import load_model\n",
    "model.save('model_vgg19.h5')"
   ]
  },
  {
   "cell_type": "code",
   "execution_count": 108,
   "id": "84afe1f9",
   "metadata": {},
   "outputs": [
    {
     "name": "stdout",
     "output_type": "stream",
     "text": [
      "5/5 [==============================] - 1s 133ms/step\n"
     ]
    }
   ],
   "source": [
    "y_pred = model.predict(test_set)"
   ]
  },
  {
   "cell_type": "code",
   "execution_count": 109,
   "id": "76f15e29",
   "metadata": {},
   "outputs": [
    {
     "data": {
      "text/plain": [
       "array([[4.69239026e-01, 5.30760944e-01],\n",
       "       [9.99977350e-01, 2.26186421e-05],\n",
       "       [7.99046397e-01, 2.00953588e-01],\n",
       "       [9.46982205e-02, 9.05301809e-01],\n",
       "       [7.98838064e-02, 9.20116186e-01],\n",
       "       [9.95822072e-01, 4.17792099e-03],\n",
       "       [9.58052278e-01, 4.19477671e-02],\n",
       "       [6.12852573e-01, 3.87147456e-01],\n",
       "       [3.44569795e-02, 9.65543032e-01],\n",
       "       [1.00000000e+00, 2.60036046e-08],\n",
       "       [5.94366975e-02, 9.40563321e-01],\n",
       "       [9.99997020e-01, 3.01856858e-06],\n",
       "       [9.97782171e-01, 2.21782224e-03],\n",
       "       [9.96948421e-01, 3.05160601e-03],\n",
       "       [2.12978989e-01, 7.87020981e-01],\n",
       "       [6.35824859e-01, 3.64175081e-01],\n",
       "       [5.06057143e-01, 4.93942887e-01],\n",
       "       [7.37254173e-02, 9.26274538e-01],\n",
       "       [1.96674272e-01, 8.03325772e-01],\n",
       "       [1.00000000e+00, 1.61399282e-13],\n",
       "       [4.64922264e-02, 9.53507841e-01],\n",
       "       [9.99997258e-01, 2.71590307e-06],\n",
       "       [1.00000000e+00, 4.97456199e-12],\n",
       "       [9.63833809e-01, 3.61662395e-02],\n",
       "       [9.98776138e-01, 1.22385903e-03],\n",
       "       [9.99164939e-01, 8.35123763e-04],\n",
       "       [9.99998808e-01, 1.23390703e-06],\n",
       "       [3.24371070e-01, 6.75628960e-01],\n",
       "       [5.97393155e-01, 4.02606875e-01],\n",
       "       [9.99957919e-01, 4.20533506e-05],\n",
       "       [9.90149856e-01, 9.85010248e-03],\n",
       "       [9.99534965e-01, 4.65054822e-04],\n",
       "       [9.81501877e-01, 1.84981152e-02],\n",
       "       [1.37972623e-01, 8.62027347e-01],\n",
       "       [9.95488226e-01, 4.51173913e-03],\n",
       "       [9.37387466e-01, 6.26126155e-02],\n",
       "       [9.99999523e-01, 5.00478450e-07],\n",
       "       [1.00000000e+00, 1.97856700e-08],\n",
       "       [9.97954249e-01, 2.04575504e-03],\n",
       "       [4.17736433e-02, 9.58226383e-01],\n",
       "       [1.00000000e+00, 1.50963935e-08],\n",
       "       [8.37405741e-01, 1.62594274e-01],\n",
       "       [4.70026396e-02, 9.52997386e-01],\n",
       "       [4.01591174e-02, 9.59840894e-01],\n",
       "       [9.79922056e-01, 2.00779475e-02],\n",
       "       [9.99960065e-01, 3.98912562e-05],\n",
       "       [5.32696605e-01, 4.67303365e-01],\n",
       "       [9.99990344e-01, 9.62637750e-06],\n",
       "       [4.10398394e-02, 9.58960235e-01],\n",
       "       [5.88488504e-02, 9.41151142e-01],\n",
       "       [3.34951729e-01, 6.65048301e-01],\n",
       "       [9.99999881e-01, 1.65424353e-07],\n",
       "       [1.54079750e-01, 8.45920265e-01],\n",
       "       [8.98442805e-01, 1.01557203e-01],\n",
       "       [9.98296440e-01, 1.70361204e-03],\n",
       "       [3.63910422e-02, 9.63608921e-01],\n",
       "       [9.96415615e-01, 3.58436024e-03],\n",
       "       [9.96560395e-01, 3.43960221e-03],\n",
       "       [9.99999046e-01, 9.58579108e-07],\n",
       "       [9.99902368e-01, 9.76371739e-05],\n",
       "       [8.07464272e-02, 9.19253588e-01],\n",
       "       [9.99999642e-01, 3.80262748e-07],\n",
       "       [9.99880075e-01, 1.19920158e-04],\n",
       "       [7.44232833e-02, 9.25576687e-01],\n",
       "       [9.94096279e-01, 5.90368174e-03],\n",
       "       [1.83969080e-01, 8.16030860e-01],\n",
       "       [3.37897897e-01, 6.62102044e-01],\n",
       "       [1.00000000e+00, 4.64890071e-11],\n",
       "       [9.99981046e-01, 1.90064129e-05],\n",
       "       [8.02023590e-01, 1.97976395e-01],\n",
       "       [9.99891996e-01, 1.07956868e-04],\n",
       "       [9.99995708e-01, 4.34163303e-06],\n",
       "       [9.98515069e-01, 1.48496707e-03],\n",
       "       [9.99974966e-01, 2.50552221e-05],\n",
       "       [9.98795390e-01, 1.20461860e-03],\n",
       "       [4.54824716e-01, 5.45175254e-01],\n",
       "       [4.48807627e-02, 9.55119252e-01],\n",
       "       [3.37346047e-02, 9.66265380e-01],\n",
       "       [9.87247229e-02, 9.01275277e-01],\n",
       "       [6.25115991e-01, 3.74883980e-01],\n",
       "       [1.00000000e+00, 7.94423902e-11],\n",
       "       [9.99961376e-01, 3.86589345e-05],\n",
       "       [9.93612707e-01, 6.38733432e-03],\n",
       "       [3.41635019e-01, 6.58364892e-01],\n",
       "       [3.02187562e-01, 6.97812378e-01],\n",
       "       [5.97648203e-01, 4.02351767e-01],\n",
       "       [9.99469936e-01, 5.30117075e-04],\n",
       "       [2.41577670e-01, 7.58422375e-01],\n",
       "       [9.99827504e-01, 1.72443251e-04],\n",
       "       [5.67221381e-02, 9.43277895e-01],\n",
       "       [9.98828590e-01, 1.17142859e-03],\n",
       "       [9.98510897e-01, 1.48906140e-03],\n",
       "       [1.21427611e-01, 8.78572345e-01],\n",
       "       [9.91182804e-01, 8.81717447e-03],\n",
       "       [8.86483192e-01, 1.13516785e-01],\n",
       "       [9.99999762e-01, 2.69363738e-07],\n",
       "       [8.31875578e-02, 9.16812420e-01],\n",
       "       [9.71498847e-01, 2.85011642e-02],\n",
       "       [8.46758261e-02, 9.15324152e-01],\n",
       "       [9.98829424e-01, 1.17059029e-03],\n",
       "       [9.51758623e-02, 9.04824078e-01],\n",
       "       [7.51410872e-02, 9.24858868e-01],\n",
       "       [9.99669194e-01, 3.30778101e-04],\n",
       "       [4.01188135e-01, 5.98811865e-01],\n",
       "       [7.03553259e-02, 9.29644704e-01],\n",
       "       [9.99679685e-01, 3.20285762e-04],\n",
       "       [1.00000000e+00, 8.30729935e-14],\n",
       "       [9.92986500e-01, 7.01355236e-03],\n",
       "       [9.95442629e-01, 4.55741165e-03],\n",
       "       [9.88815784e-01, 1.11841513e-02],\n",
       "       [9.99999523e-01, 4.91629805e-07],\n",
       "       [9.95371163e-01, 4.62887669e-03],\n",
       "       [9.99978900e-01, 2.11198931e-05],\n",
       "       [8.14036950e-02, 9.18596327e-01],\n",
       "       [6.56736791e-02, 9.34326351e-01],\n",
       "       [9.99810994e-01, 1.89059589e-04],\n",
       "       [6.14367723e-02, 9.38563228e-01],\n",
       "       [4.06835467e-01, 5.93164504e-01],\n",
       "       [3.49060386e-01, 6.50939584e-01],\n",
       "       [4.49780315e-01, 5.50219655e-01],\n",
       "       [9.21996891e-01, 7.80031383e-02],\n",
       "       [9.99245644e-01, 7.54378038e-04],\n",
       "       [9.99983191e-01, 1.68294246e-05],\n",
       "       [7.91662574e-01, 2.08337411e-01],\n",
       "       [9.60326135e-01, 3.96738909e-02],\n",
       "       [1.79837018e-01, 8.20162952e-01],\n",
       "       [9.99531984e-01, 4.68058774e-04],\n",
       "       [3.61606061e-01, 6.38393939e-01],\n",
       "       [9.90502816e-03, 9.90094900e-01],\n",
       "       [5.43937497e-02, 9.45606232e-01],\n",
       "       [9.99948502e-01, 5.14634085e-05],\n",
       "       [1.71767473e-01, 8.28232527e-01],\n",
       "       [3.33595753e-01, 6.66404247e-01],\n",
       "       [7.83104539e-01, 2.16895506e-01]], dtype=float32)"
      ]
     },
     "execution_count": 109,
     "metadata": {},
     "output_type": "execute_result"
    }
   ],
   "source": [
    "y_pred"
   ]
  },
  {
   "cell_type": "code",
   "execution_count": 110,
   "id": "d2aa412c",
   "metadata": {},
   "outputs": [],
   "source": [
    "import numpy as np\n",
    "y_pred = np.argmax(y_pred, axis=1)"
   ]
  },
  {
   "cell_type": "code",
   "execution_count": 111,
   "id": "4e80dac9",
   "metadata": {},
   "outputs": [
    {
     "data": {
      "text/plain": [
       "array([1, 0, 0, 1, 1, 0, 0, 0, 1, 0, 1, 0, 0, 0, 1, 0, 0, 1, 1, 0, 1, 0,\n",
       "       0, 0, 0, 0, 0, 1, 0, 0, 0, 0, 0, 1, 0, 0, 0, 0, 0, 1, 0, 0, 1, 1,\n",
       "       0, 0, 0, 0, 1, 1, 1, 0, 1, 0, 0, 1, 0, 0, 0, 0, 1, 0, 0, 1, 0, 1,\n",
       "       1, 0, 0, 0, 0, 0, 0, 0, 0, 1, 1, 1, 1, 0, 0, 0, 0, 1, 1, 0, 0, 1,\n",
       "       0, 1, 0, 0, 1, 0, 0, 0, 1, 0, 1, 0, 1, 1, 0, 1, 1, 0, 0, 0, 0, 0,\n",
       "       0, 0, 0, 1, 1, 0, 1, 1, 1, 1, 0, 0, 0, 0, 0, 1, 0, 1, 1, 1, 0, 1,\n",
       "       1, 0], dtype=int64)"
      ]
     },
     "execution_count": 111,
     "metadata": {},
     "output_type": "execute_result"
    }
   ],
   "source": [
    "y_pred"
   ]
  },
  {
   "cell_type": "code",
   "execution_count": 112,
   "id": "a4aae0f3",
   "metadata": {},
   "outputs": [],
   "source": [
    "from tensorflow.keras.models import load_model\n",
    "from tensorflow.keras.preprocessing import image"
   ]
  },
  {
   "cell_type": "code",
   "execution_count": 113,
   "id": "07385321",
   "metadata": {},
   "outputs": [],
   "source": [
    "model=load_model('model_vgg19.h5')"
   ]
  },
  {
   "cell_type": "code",
   "execution_count": 122,
   "id": "8946f3b8",
   "metadata": {},
   "outputs": [],
   "source": [
    "img=image.load_img('Dataset/Test/Uninfected/2.png',target_size=(224,224))"
   ]
  },
  {
   "cell_type": "code",
   "execution_count": 123,
   "id": "af9a65c2",
   "metadata": {},
   "outputs": [
    {
     "data": {
      "text/plain": [
       "array([[[0., 0., 0.],\n",
       "        [0., 0., 0.],\n",
       "        [0., 0., 0.],\n",
       "        ...,\n",
       "        [0., 0., 0.],\n",
       "        [0., 0., 0.],\n",
       "        [0., 0., 0.]],\n",
       "\n",
       "       [[0., 0., 0.],\n",
       "        [0., 0., 0.],\n",
       "        [0., 0., 0.],\n",
       "        ...,\n",
       "        [0., 0., 0.],\n",
       "        [0., 0., 0.],\n",
       "        [0., 0., 0.]],\n",
       "\n",
       "       [[0., 0., 0.],\n",
       "        [0., 0., 0.],\n",
       "        [0., 0., 0.],\n",
       "        ...,\n",
       "        [0., 0., 0.],\n",
       "        [0., 0., 0.],\n",
       "        [0., 0., 0.]],\n",
       "\n",
       "       ...,\n",
       "\n",
       "       [[0., 0., 0.],\n",
       "        [0., 0., 0.],\n",
       "        [0., 0., 0.],\n",
       "        ...,\n",
       "        [0., 0., 0.],\n",
       "        [0., 0., 0.],\n",
       "        [0., 0., 0.]],\n",
       "\n",
       "       [[0., 0., 0.],\n",
       "        [0., 0., 0.],\n",
       "        [0., 0., 0.],\n",
       "        ...,\n",
       "        [0., 0., 0.],\n",
       "        [0., 0., 0.],\n",
       "        [0., 0., 0.]],\n",
       "\n",
       "       [[0., 0., 0.],\n",
       "        [0., 0., 0.],\n",
       "        [0., 0., 0.],\n",
       "        ...,\n",
       "        [0., 0., 0.],\n",
       "        [0., 0., 0.],\n",
       "        [0., 0., 0.]]], dtype=float32)"
      ]
     },
     "execution_count": 123,
     "metadata": {},
     "output_type": "execute_result"
    }
   ],
   "source": [
    "x=image.img_to_array(img)\n",
    "x"
   ]
  },
  {
   "cell_type": "code",
   "execution_count": 124,
   "id": "80cd1781",
   "metadata": {},
   "outputs": [
    {
     "data": {
      "text/plain": [
       "(224, 224, 3)"
      ]
     },
     "execution_count": 124,
     "metadata": {},
     "output_type": "execute_result"
    }
   ],
   "source": [
    "x.shape"
   ]
  },
  {
   "cell_type": "code",
   "execution_count": 125,
   "id": "86cfcfce",
   "metadata": {},
   "outputs": [],
   "source": [
    "x=x/255"
   ]
  },
  {
   "cell_type": "code",
   "execution_count": 126,
   "id": "5c7b02e1",
   "metadata": {},
   "outputs": [
    {
     "data": {
      "text/plain": [
       "(1, 224, 224, 3)"
      ]
     },
     "execution_count": 126,
     "metadata": {},
     "output_type": "execute_result"
    }
   ],
   "source": [
    "x=np.expand_dims(x,axis=0)\n",
    "img_data=preprocess_input(x)\n",
    "img_data.shape"
   ]
  },
  {
   "cell_type": "code",
   "execution_count": 130,
   "id": "37f1a820",
   "metadata": {},
   "outputs": [
    {
     "name": "stdout",
     "output_type": "stream",
     "text": [
      "1/1 [==============================] - 0s 61ms/step\n"
     ]
    },
    {
     "data": {
      "text/plain": [
       "array([[1., 0.]], dtype=float32)"
      ]
     },
     "execution_count": 130,
     "metadata": {},
     "output_type": "execute_result"
    }
   ],
   "source": [
    "model.predict(img_data)"
   ]
  },
  {
   "cell_type": "code",
   "execution_count": 131,
   "id": "b5e773a2",
   "metadata": {},
   "outputs": [
    {
     "name": "stdout",
     "output_type": "stream",
     "text": [
      "1/1 [==============================] - 0s 67ms/step\n"
     ]
    }
   ],
   "source": [
    "a=np.argmax(model.predict(img_data), axis=1)"
   ]
  },
  {
   "cell_type": "code",
   "execution_count": 132,
   "id": "034760e6",
   "metadata": {},
   "outputs": [
    {
     "name": "stdout",
     "output_type": "stream",
     "text": [
      "Infected\n"
     ]
    }
   ],
   "source": [
    "if(a==1):\n",
    "    print(\"Uninfected\")\n",
    "else:\n",
    "    print(\"Infected\")"
   ]
  },
  {
   "cell_type": "code",
   "execution_count": null,
   "id": "8fdbdb46",
   "metadata": {},
   "outputs": [],
   "source": []
  },
  {
   "cell_type": "code",
   "execution_count": null,
   "id": "5f622585",
   "metadata": {},
   "outputs": [],
   "source": []
  },
  {
   "cell_type": "code",
   "execution_count": null,
   "id": "c7d4c741",
   "metadata": {},
   "outputs": [],
   "source": []
  }
 ],
 "metadata": {
  "kernelspec": {
   "display_name": "Python 3 (ipykernel)",
   "language": "python",
   "name": "python3"
  },
  "language_info": {
   "codemirror_mode": {
    "name": "ipython",
    "version": 3
   },
   "file_extension": ".py",
   "mimetype": "text/x-python",
   "name": "python",
   "nbconvert_exporter": "python",
   "pygments_lexer": "ipython3",
   "version": "3.11.5"
  }
 },
 "nbformat": 4,
 "nbformat_minor": 5
}
